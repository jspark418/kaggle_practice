{
 "cells": [
  {
   "cell_type": "code",
   "execution_count": 1,
   "metadata": {},
   "outputs": [
    {
     "name": "stderr",
     "output_type": "stream",
     "text": [
      "Using TensorFlow backend.\n"
     ]
    }
   ],
   "source": [
    "# https://www.youtube.com/watch?v=sG_WeGbZ9A4&t=221s 내용 필사함\n",
    "\n",
    "import pandas as pd\n",
    "import numpy as np\n",
    "import matplotlib.pyplot as plt\n",
    "from sklearn.preprocessing import MinMaxScaler\n",
    "from keras.models import Sequential\n",
    "from keras.layers import LSTM, Dropout, Dense, Activation\n",
    "import datetime"
   ]
  },
  {
   "cell_type": "code",
   "execution_count": 2,
   "metadata": {},
   "outputs": [
    {
     "data": {
      "text/plain": [
       "'1.19.2'"
      ]
     },
     "execution_count": 2,
     "metadata": {},
     "output_type": "execute_result"
    }
   ],
   "source": [
    "np.version.version"
   ]
  },
  {
   "cell_type": "code",
   "execution_count": 3,
   "metadata": {},
   "outputs": [
    {
     "data": {
      "text/plain": [
       "(         Date      Open      High       Low     Close     Adj Close  Volume\n",
       " 0  2017-01-04  382500.0  384500.0  370500.0  373500.0  335021.56250  124236\n",
       " 1  2017-01-05  373500.0  374500.0  364000.0  372000.0  333676.06250  113002\n",
       " 2  2017-01-06  369500.0  372000.0  367000.0  369500.0  331433.65625   75013\n",
       " 3  2017-01-09  372500.0  386500.0  372000.0  381500.0  342197.40625  125560\n",
       " 4  2017-01-10  378000.0  378500.0  373000.0  375000.0  336367.06250   88423,\n",
       " (1226, 7))"
      ]
     },
     "execution_count": 3,
     "metadata": {},
     "output_type": "execute_result"
    }
   ],
   "source": [
    "data = pd.read_csv('LotteChemical_220104.csv')\n",
    "data.head(), data.shape"
   ]
  },
  {
   "cell_type": "code",
   "execution_count": 4,
   "metadata": {},
   "outputs": [],
   "source": [
    "high_prices = data['High']\n",
    "low_prices = data['Low']\n",
    "mid_prices = (high_prices + low_prices)/2"
   ]
  },
  {
   "cell_type": "code",
   "execution_count": 5,
   "metadata": {},
   "outputs": [],
   "source": [
    "# 최근 50일 데이터를 이용해 다음날 주가를 예측\n",
    "# window size : 51\n",
    "seq_len = 50\n",
    "sequence_length = seq_len + 1\n",
    "\n",
    "# result에 각 window를 저장\n",
    "result = []\n",
    "for index in range(len(mid_prices) - sequence_length) :\n",
    "    \n",
    "    result.append(np.array(mid_prices[index:index+sequence_length]).reshape(-1,1))"
   ]
  },
  {
   "cell_type": "code",
   "execution_count": 6,
   "metadata": {},
   "outputs": [],
   "source": [
    "# 각 윈도우마다 정규화\n",
    "scaler = MinMaxScaler()\n",
    "normalized_data = []\n",
    "for window in result :\n",
    "    normalized_window = scaler.fit_transform(window)\n",
    "    normalized_data.append(normalized_window)\n",
    "\n",
    "result = np.array(normalized_data)"
   ]
  },
  {
   "cell_type": "code",
   "execution_count": 7,
   "metadata": {},
   "outputs": [
    {
     "data": {
      "text/plain": [
       "((1058, 50, 1), (117, 50, 1))"
      ]
     },
     "execution_count": 7,
     "metadata": {},
     "output_type": "execute_result"
    }
   ],
   "source": [
    "# split train/test data : 0.9/0.1\n",
    "row = int(round(result.shape[0]*0.9))\n",
    "train = result[:row,:]\n",
    "np.random.shuffle(train) # window를 shuffle 해줌\n",
    "\n",
    "x_train = train[:,:-1]\n",
    "x_train = np.reshape(x_train, (x_train.shape[0], x_train.shape[1],1))\n",
    "y_train = train[:,-1]\n",
    "\n",
    "x_test = result[row:,:-1]\n",
    "x_test = np.reshape(x_test, (x_test.shape[0], x_test.shape[1],1))\n",
    "y_test = result[row:,-1]\n",
    "\n",
    "x_train.shape, x_test.shape"
   ]
  },
  {
   "cell_type": "code",
   "execution_count": 8,
   "metadata": {},
   "outputs": [
    {
     "name": "stdout",
     "output_type": "stream",
     "text": [
      "Model: \"sequential_1\"\n",
      "_________________________________________________________________\n",
      "Layer (type)                 Output Shape              Param #   \n",
      "=================================================================\n",
      "lstm_1 (LSTM)                (None, 50, 50)            10400     \n",
      "_________________________________________________________________\n",
      "lstm_2 (LSTM)                (None, 64)                29440     \n",
      "_________________________________________________________________\n",
      "dense_1 (Dense)              (None, 1)                 65        \n",
      "=================================================================\n",
      "Total params: 39,905\n",
      "Trainable params: 39,905\n",
      "Non-trainable params: 0\n",
      "_________________________________________________________________\n"
     ]
    }
   ],
   "source": [
    "# build a model\n",
    "\n",
    "model = Sequential()\n",
    "\n",
    "model.add(LSTM(50, return_sequences=True, input_shape=(50,1)))\n",
    "model.add(LSTM(64, return_sequences=False))\n",
    "model.add(Dense(1, activation='linear'))\n",
    "model.compile(loss='mse', optimizer='rmsprop')\n",
    "model.summary()"
   ]
  },
  {
   "cell_type": "code",
   "execution_count": 9,
   "metadata": {},
   "outputs": [
    {
     "name": "stdout",
     "output_type": "stream",
     "text": [
      "Train on 1058 samples, validate on 117 samples\n",
      "Epoch 1/20\n",
      "1058/1058 [==============================] - 4s 3ms/step - loss: 0.0564 - val_loss: 0.0330\n",
      "Epoch 2/20\n",
      "1058/1058 [==============================] - 3s 3ms/step - loss: 0.0281 - val_loss: 0.0155\n",
      "Epoch 3/20\n",
      "1058/1058 [==============================] - 3s 3ms/step - loss: 0.0185 - val_loss: 0.0391\n",
      "Epoch 4/20\n",
      "1058/1058 [==============================] - 3s 3ms/step - loss: 0.0149 - val_loss: 0.0119\n",
      "Epoch 5/20\n",
      "1058/1058 [==============================] - 3s 3ms/step - loss: 0.0127 - val_loss: 0.0103\n",
      "Epoch 6/20\n",
      "1058/1058 [==============================] - 3s 3ms/step - loss: 0.0117 - val_loss: 0.0096\n",
      "Epoch 7/20\n",
      "1058/1058 [==============================] - 3s 3ms/step - loss: 0.0112 - val_loss: 0.0088\n",
      "Epoch 8/20\n",
      "1058/1058 [==============================] - 3s 3ms/step - loss: 0.0106 - val_loss: 0.0098\n",
      "Epoch 9/20\n",
      "1058/1058 [==============================] - 3s 3ms/step - loss: 0.0109 - val_loss: 0.0096\n",
      "Epoch 10/20\n",
      "1058/1058 [==============================] - 3s 3ms/step - loss: 0.0108 - val_loss: 0.0090\n",
      "Epoch 11/20\n",
      "1058/1058 [==============================] - 3s 3ms/step - loss: 0.0103 - val_loss: 0.0093\n",
      "Epoch 12/20\n",
      "1058/1058 [==============================] - 3s 3ms/step - loss: 0.0104 - val_loss: 0.0090\n",
      "Epoch 13/20\n",
      "1058/1058 [==============================] - 3s 3ms/step - loss: 0.0103 - val_loss: 0.0086\n",
      "Epoch 14/20\n",
      "1058/1058 [==============================] - 3s 3ms/step - loss: 0.0104 - val_loss: 0.0097\n",
      "Epoch 15/20\n",
      "1058/1058 [==============================] - 3s 3ms/step - loss: 0.0103 - val_loss: 0.0088\n",
      "Epoch 16/20\n",
      "1058/1058 [==============================] - 3s 3ms/step - loss: 0.0103 - val_loss: 0.0122\n",
      "Epoch 17/20\n",
      "1058/1058 [==============================] - 3s 3ms/step - loss: 0.0101 - val_loss: 0.0115\n",
      "Epoch 18/20\n",
      "1058/1058 [==============================] - 3s 3ms/step - loss: 0.0102 - val_loss: 0.0094\n",
      "Epoch 19/20\n",
      "1058/1058 [==============================] - 3s 3ms/step - loss: 0.0101 - val_loss: 0.0105\n",
      "Epoch 20/20\n",
      "1058/1058 [==============================] - 3s 3ms/step - loss: 0.0100 - val_loss: 0.0090\n"
     ]
    },
    {
     "data": {
      "text/plain": [
       "<keras.callbacks.callbacks.History at 0x2e27bee0dd8>"
      ]
     },
     "execution_count": 9,
     "metadata": {},
     "output_type": "execute_result"
    }
   ],
   "source": [
    " model.fit(x_train, y_train, validation_data=(x_test,y_test), batch_size=10, epochs=20)"
   ]
  },
  {
   "cell_type": "code",
   "execution_count": 10,
   "metadata": {},
   "outputs": [
    {
     "data": {
      "image/png": "[encoded data removed]",
      "text/plain": [
       "<Figure size 432x288 with 1 Axes>"
      ]
     },
     "metadata": {},
     "output_type": "display_data"
    }
   ],
   "source": [
    "pred=model.predict(x_test)\n",
    "\n",
    "fig = plt.figure(facecolor='white')\n",
    "ax=fig.add_subplot(111)\n",
    "\n",
    "ax.plot(y_test, label='True')\n",
    "ax.plot(pred,label='Prediction')\n",
    "ax.legend()\n",
    "plt.show()"
   ]
  },
  {
   "cell_type": "code",
   "execution_count": null,
   "metadata": {},
   "outputs": [],
   "source": []
  }
 ],
 "metadata": {
  "interpreter": {
   "hash": "f76de862f56e6b9bcda8830228a31c39a95c132ea361df9b9ba27b351b246fa9"
  },
  "kernelspec": {
   "display_name": "Python 3.8.8 64-bit ('tensorflow': conda)",
   "language": "python",
   "name": "python3"
  },
  "language_info": {
   "codemirror_mode": {
    "name": "ipython",
    "version": 3
   },
   "file_extension": ".py",
   "mimetype": "text/x-python",
   "name": "python",
   "nbconvert_exporter": "python",
   "pygments_lexer": "ipython3",
   "version": "3.6.13"
  },
  "orig_nbformat": 4
 },
 "nbformat": 4,
 "nbformat_minor": 2
}
